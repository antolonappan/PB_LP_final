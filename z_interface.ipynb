{
 "cells": [
  {
   "cell_type": "code",
   "execution_count": 1,
   "metadata": {},
   "outputs": [],
   "source": [
    "import h5py\n",
    "import numpy as np\n",
    "import pickle as pk\n",
    "import os\n",
    "from scipy.stats import gmean"
   ]
  },
  {
   "cell_type": "code",
   "execution_count": 2,
   "metadata": {},
   "outputs": [],
   "source": [
    "#hdf5=h5py.File('/project/projectdirs/polar/data/largepatch_reanalysis/largepatch_planck_sim_set/lowell_2_20210220/final_spectra_pack.hdf5','r')\n",
    "hdf5=h5py.File('/project/projectdirs/polar/data/largepatch_reanalysis/largepatch_planck_sim_set/lowell_4_20210328/final_spectra_pack_unblind.hdf5','r' )"
   ]
  },
  {
   "cell_type": "code",
   "execution_count": 3,
   "metadata": {},
   "outputs": [],
   "source": [
    "spectra_keys = ['tt', 'ee', 'bb', 'te', 'tb', 'eb']\n",
    "freq_name = ['planck_143','pb', 'planck_217','planck_353']"
   ]
  },
  {
   "cell_type": "code",
   "execution_count": 4,
   "metadata": {},
   "outputs": [],
   "source": [
    "def dump_noise(hdf5,name):\n",
    "    name_ = 'polarbear' if name=='pb' else name\n",
    "\n",
    "    foldername = os.path.join('polar/noise_bias',name)\n",
    "    os.makedirs(foldername,exist_ok=True)\n",
    "    noise_bias = {}\n",
    "    for keys in spectra_keys:\n",
    "        noise_bias[keys] = {}\n",
    "        noise_bias[keys]['Cb'] = hdf5[f\"noise_fullcross/{name_}x{name_}/{keys}\"]['Cb'][:,:].mean(axis=0)\n",
    "    filename = os.path.join(foldername,'allspec.pkl')\n",
    "\n",
    "    pk.dump(noise_bias, open(filename, 'wb'))"
   ]
  },
  {
   "cell_type": "code",
   "execution_count": 12,
   "metadata": {},
   "outputs": [],
   "source": [
    "for name in freq_name:\n",
    "    dump_noise(hdf5,name)"
   ]
  },
  {
   "cell_type": "code",
   "execution_count": 5,
   "metadata": {},
   "outputs": [],
   "source": [
    "def make_filename(exp1,exp2):\n",
    "    if exp1 == exp2:\n",
    "        return exp1\n",
    "    else:\n",
    "        if exp1 == \"pb\":\n",
    "            return f\"{exp2}_{exp1}\"\n",
    "        else:\n",
    "            return f\"{exp1}_{exp2}\"\n",
    "\n",
    "def make_keyname(exp1,exp2):\n",
    "    exp1 = 'polarbear' if exp1 == 'pb' else exp1\n",
    "    exp2 = 'polarbear' if exp2 == 'pb' else exp2\n",
    "    \n",
    "    if exp1 == 'polarbear':\n",
    "        return f\"{exp2}x{exp1}\"\n",
    "    else:\n",
    "        return f\"{exp1}x{exp2}\"\n",
    "      "
   ]
  },
  {
   "cell_type": "code",
   "execution_count": 6,
   "metadata": {},
   "outputs": [],
   "source": [
    "def dump_spectra(hdf5,exp1,exp2):\n",
    "    name = make_filename(exp1,exp2)\n",
    "    foldername = os.path.join('polar/real_spectra_abscal_pb_fakeauto/',name)\n",
    "    os.makedirs(foldername,exist_ok=True)\n",
    "    spectra = {}\n",
    "    spectra['bins'] = hdf5['signal_fullcross']['bins'][:].flatten()\n",
    "    for keys in spectra_keys:\n",
    "        spectra[keys] = {}\n",
    "        key = f\"real_fullcross/{make_keyname(exp1,exp2)}/{keys}\"\n",
    "        spectra[keys]['Cb'] = hdf5[key]['Cb'][:]\n",
    "    filename = os.path.join(foldername,'allspec.pkl')\n",
    "    print(f\"writing {filename}\")\n",
    "    pk.dump(spectra,open(filename,'wb'))"
   ]
  },
  {
   "cell_type": "code",
   "execution_count": 15,
   "metadata": {},
   "outputs": [
    {
     "name": "stdout",
     "output_type": "stream",
     "text": [
      "writing polar/real_spectra_abscal_pb_fakeauto/planck_143/allspec.pkl\n",
      "writing polar/real_spectra_abscal_pb_fakeauto/planck_143_pb/allspec.pkl\n",
      "writing polar/real_spectra_abscal_pb_fakeauto/planck_143_planck_217/allspec.pkl\n",
      "writing polar/real_spectra_abscal_pb_fakeauto/planck_143_planck_353/allspec.pkl\n",
      "writing polar/real_spectra_abscal_pb_fakeauto/pb/allspec.pkl\n",
      "writing polar/real_spectra_abscal_pb_fakeauto/planck_217_pb/allspec.pkl\n",
      "writing polar/real_spectra_abscal_pb_fakeauto/planck_353_pb/allspec.pkl\n",
      "writing polar/real_spectra_abscal_pb_fakeauto/planck_217/allspec.pkl\n",
      "writing polar/real_spectra_abscal_pb_fakeauto/planck_217_planck_353/allspec.pkl\n",
      "writing polar/real_spectra_abscal_pb_fakeauto/planck_353/allspec.pkl\n"
     ]
    }
   ],
   "source": [
    "for i, exp1 in enumerate(freq_name):\n",
    "    for j, exp2 in enumerate(freq_name):\n",
    "        if i <= j:\n",
    "            dump_spectra(hdf5,exp1,exp2)"
   ]
  },
  {
   "cell_type": "code",
   "execution_count": 7,
   "metadata": {},
   "outputs": [],
   "source": [
    "def dump_dof_form_data(hdf5,exp1,exp2):\n",
    "    name = make_filename(exp1,exp2)\n",
    "    foldername = os.path.join('polar/dof/from_data',name)\n",
    "    os.makedirs(foldername,exist_ok=True)\n",
    "    spectra = {}\n",
    "    spectra['bins'] = hdf5['signal_fullcross']['bins'][:].flatten()\n",
    "    for keys in spectra_keys:\n",
    "        spectra[keys] = {}\n",
    "        key = f\"real_fullcross/{make_keyname(exp1,exp2)}/{keys}\"\n",
    "        spectra[keys]['nub'] = hdf5[key]['nub'][:]\n",
    "        spectra[keys]['Cb'] = hdf5[key]['Cb'][:]\n",
    "    filename = os.path.join(foldername,'allspec.pkl')\n",
    "    print(f\"writing {filename}\")\n",
    "    pk.dump(spectra,open(filename,'wb'))"
   ]
  },
  {
   "cell_type": "code",
   "execution_count": 8,
   "metadata": {},
   "outputs": [],
   "source": [
    "def dump_dof_calculated(hdf5,exp1,exp2):\n",
    "    \n",
    "    \n",
    "    name = make_filename(exp1,exp2)\n",
    "    foldername = os.path.join('polar/dof/calculated',name)\n",
    "    os.makedirs(foldername,exist_ok=True)\n",
    "    spectra = {}\n",
    "    spectra['bins'] = hdf5['signal_fullcross']['bins'][:].flatten()\n",
    "    for keys in spectra_keys:\n",
    "        spectra[keys] = {}\n",
    "        #key = f\"real_fullcross/{make_keyname(exp1,exp2)}/{keys}\"\n",
    "        \n",
    "        bias = hdf5[f\"noise_fullcross/{make_keyname(exp1,exp2)}/{keys}\"]['Cb'][:,:].mean(axis=0)\n",
    "        std = hdf5[f\"noise_fullcross/{make_keyname(exp1,exp2)}/{keys}\"]['Cb'][:,:].std(axis=0)\n",
    "        dof = (bias/std)**2*2\n",
    "        \n",
    "        \n",
    "        spectra[keys]['nub'] = dof\n",
    "        #spectra[keys]['Cb'] = hdf5[key]['Cb'][:]\n",
    "    filename = os.path.join(foldername,'allspec.pkl')\n",
    "    print(f\"writing {filename}\")\n",
    "    pk.dump(spectra,open(filename,'wb'))"
   ]
  },
  {
   "cell_type": "code",
   "execution_count": 10,
   "metadata": {},
   "outputs": [
    {
     "name": "stdout",
     "output_type": "stream",
     "text": [
      "writing polar/dof/calculated/planck_143/allspec.pkl\n",
      "writing polar/dof/calculated/planck_143_pb/allspec.pkl\n",
      "writing polar/dof/calculated/planck_143_planck_217/allspec.pkl\n",
      "writing polar/dof/calculated/planck_143_planck_353/allspec.pkl\n",
      "writing polar/dof/calculated/pb/allspec.pkl\n",
      "writing polar/dof/calculated/planck_217_pb/allspec.pkl\n",
      "writing polar/dof/calculated/planck_353_pb/allspec.pkl\n",
      "writing polar/dof/calculated/planck_217/allspec.pkl\n",
      "writing polar/dof/calculated/planck_217_planck_353/allspec.pkl\n",
      "writing polar/dof/calculated/planck_353/allspec.pkl\n"
     ]
    }
   ],
   "source": [
    "for i, exp1 in enumerate(freq_name):\n",
    "    for j, exp2 in enumerate(freq_name):\n",
    "        if i <= j:\n",
    "            dump_dof_calculated(hdf5,exp1,exp2)"
   ]
  },
  {
   "cell_type": "code",
   "execution_count": 9,
   "metadata": {},
   "outputs": [],
   "source": [
    "dof = {}\n",
    "for i, exp1 in enumerate(freq_name):\n",
    "    for j, exp2 in enumerate(freq_name):\n",
    "        if i == j:\n",
    "            dof[make_filename(exp1,exp2)] = {}\n",
    "            for keys in spectra_keys:\n",
    "                bias = hdf5[f\"noise_fullcross/{make_keyname(exp1,exp2)}/{keys}\"]['Cb'][:,:].mean(axis=0)\n",
    "                std = hdf5[f\"noise_fullcross/{make_keyname(exp1,exp2)}/{keys}\"]['Cb'][:,:].std(axis=0)\n",
    "                \n",
    "                dof[make_filename(exp1,exp2)][keys] = (bias/std)**2*2"
   ]
  },
  {
   "cell_type": "code",
   "execution_count": 10,
   "metadata": {},
   "outputs": [
    {
     "data": {
      "text/plain": [
       "dict_keys(['planck_143', 'pb', 'planck_217', 'planck_353'])"
      ]
     },
     "execution_count": 10,
     "metadata": {},
     "output_type": "execute_result"
    }
   ],
   "source": [
    "dof.keys()"
   ]
  },
  {
   "cell_type": "code",
   "execution_count": 14,
   "metadata": {},
   "outputs": [
    {
     "name": "stdout",
     "output_type": "stream",
     "text": [
      "writing polar/dof/calculated/planck/allspec.pkl\n"
     ]
    }
   ],
   "source": [
    "planck ={}\n",
    "for keys in spectra_keys:\n",
    "    planck[keys] = {}\n",
    "    planck_arr = []\n",
    "    for key in dof.keys():\n",
    "        if 'planck' in key:\n",
    "            planck_arr.append(dof[key][keys])\n",
    "    planck[keys]['nub'] = gmean(np.array(planck_arr))\n",
    "planck['bins'] = hdf5['signal_fullcross']['bins'][:].flatten()\n",
    "foldername = os.path.join('polar/dof/calculated','planck')\n",
    "filename = os.path.join(foldername,'allspec.pkl')\n",
    "print(f\"writing {filename}\")\n",
    "#pk.dump(planck,open(filename,'wb'))"
   ]
  },
  {
   "cell_type": "code",
   "execution_count": 18,
   "metadata": {},
   "outputs": [
    {
     "name": "stdout",
     "output_type": "stream",
     "text": [
      "writing polar/dof/calculated/planck_pb/allspec.pkl\n"
     ]
    }
   ],
   "source": [
    "planck_pb ={}\n",
    "for keys in spectra_keys:\n",
    "    planck_pb[keys] = {}\n",
    "    planck_arr = []\n",
    "    for key in dof.keys():\n",
    "        planck_arr.append(dof[key][keys])\n",
    "    planck_pb[keys]['nub'] = gmean(np.array(planck_arr))\n",
    "planck_pb['bins'] = hdf5['signal_fullcross']['bins'][:].flatten()\n",
    "foldername = os.path.join('polar/dof/calculated','planck_pb')\n",
    "filename = os.path.join(foldername,'allspec.pkl')\n",
    "print(f\"writing {filename}\")\n",
    "pk.dump(planck_pb,open(filename,'wb'))"
   ]
  },
  {
   "cell_type": "code",
   "execution_count": 21,
   "metadata": {},
   "outputs": [
    {
     "name": "stdout",
     "output_type": "stream",
     "text": [
      "writing polar/dof/calculated/planck_pb_final/allspec.pkl\n"
     ]
    }
   ],
   "source": [
    "planck_pb_new = {}\n",
    "pb_dof = dof['pb']\n",
    "\n",
    "for keys in spectra_keys:\n",
    "    planck_pb_new[keys] = {}\n",
    "    planck_pb_new[keys]['nub'] = np.sqrt(planck[keys]['nub'] * pb_dof[keys])\n",
    "\n",
    "planck_pb_new['bins'] = hdf5['signal_fullcross']['bins'][:].flatten()\n",
    "foldername = os.path.join('polar/dof/calculated','planck_pb_final')\n",
    "os.makedirs(foldername,exist_ok=True)\n",
    "filename = os.path.join(foldername,'allspec.pkl')\n",
    "print(f\"writing {filename}\")\n",
    "pk.dump(planck_pb_new,open(filename,'wb'))"
   ]
  },
  {
   "cell_type": "code",
   "execution_count": 22,
   "metadata": {},
   "outputs": [
    {
     "data": {
      "text/plain": [
       "{'nub': array([  1.27022008,  55.90259788, 148.10977831, 217.88319117,\n",
       "        302.80658937, 355.34167729, 413.04791381, 533.6669225 ,\n",
       "        616.4300294 , 648.42539471, 810.99225452, 792.30354936,\n",
       "        806.85494276, 503.60722077])}"
      ]
     },
     "execution_count": 22,
     "metadata": {},
     "output_type": "execute_result"
    }
   ],
   "source": [
    "planck_pb_new['bb']"
   ]
  },
  {
   "cell_type": "code",
   "execution_count": null,
   "metadata": {},
   "outputs": [],
   "source": []
  }
 ],
 "metadata": {
  "kernelspec": {
   "display_name": "MyPython",
   "language": "python",
   "name": "py3"
  },
  "language_info": {
   "codemirror_mode": {
    "name": "ipython",
    "version": 3
   },
   "file_extension": ".py",
   "mimetype": "text/x-python",
   "name": "python",
   "nbconvert_exporter": "python",
   "pygments_lexer": "ipython3",
   "version": "3.6.10"
  }
 },
 "nbformat": 4,
 "nbformat_minor": 4
}
