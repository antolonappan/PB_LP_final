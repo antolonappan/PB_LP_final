{
 "cells": [
  {
   "cell_type": "code",
   "execution_count": 1,
   "metadata": {},
   "outputs": [],
   "source": [
    "import h5py\n",
    "import numpy as np\n",
    "import matplotlib.pyplot as plt\n",
    "from getdist import plots, MCSamples"
   ]
  },
  {
   "cell_type": "code",
   "execution_count": 2,
   "metadata": {},
   "outputs": [],
   "source": [
    "labels = ['r', 'A_\\\\mathrm{dust}','\\\\alpha_\\\\mathrm{dust}', '\\\\beta_\\\\mathrm{dust}']\n",
    "names = ['r','Adust','adust','bdust']"
   ]
  },
  {
   "cell_type": "code",
   "execution_count": 6,
   "metadata": {},
   "outputs": [],
   "source": [
    "dof='__gm_dof'\n",
    "mc_file = f\"workspace/comp_sep/cmb_r0p00__dust_prior_beta_alpha__noise{dof}/data/mcmc.hdf5\"\n",
    "old_mc_file = f\"workspace/2019_mcmc.hdf5\""
   ]
  },
  {
   "cell_type": "code",
   "execution_count": 7,
   "metadata": {},
   "outputs": [],
   "source": [
    "mc_dat = h5py.File(mc_file,'r')\n",
    "mc_old_dat = h5py.File(old_mc_file,'r')"
   ]
  },
  {
   "cell_type": "code",
   "execution_count": 8,
   "metadata": {},
   "outputs": [],
   "source": [
    "chain = mc_dat['chain']\n",
    "chain_2 = mc_old_dat['chain']\n",
    "sel = np.where(chain[:,0]>0)\n",
    "cut_chain=[chain[:,0][sel],chain[:,1][sel],chain[:,2][sel],chain[:,3][sel]]"
   ]
  },
  {
   "cell_type": "code",
   "execution_count": 9,
   "metadata": {},
   "outputs": [
    {
     "name": "stdout",
     "output_type": "stream",
     "text": [
      "Removed no burn in\n",
      "Removed no burn in\n"
     ]
    }
   ],
   "source": [
    "samples = MCSamples(samples=cut_chain,names = names, labels = labels,ranges={'r':(0,None)})\n",
    "samples2 = MCSamples(samples=chain_2,names = names, labels = labels,ranges={'r':(0,None)})"
   ]
  },
  {
   "cell_type": "code",
   "execution_count": null,
   "metadata": {},
   "outputs": [
    {
     "name": "stderr",
     "output_type": "stream",
     "text": [
      "WARNING:root:fine_bins not large enough to well sample smoothing scale - r\n",
      "WARNING:root:fine_bins not large enough to well sample smoothing scale - r\n",
      "WARNING:root:fine_bins_2D not large enough for optimal density\n",
      "WARNING:root:fine_bins_2D not large enough for optimal density\n",
      "WARNING:root:fine_bins_2D not large enough for optimal density\n",
      "WARNING:root:fine_bins_2D not large enough for optimal density\n",
      "WARNING:root:fine_bins_2D not large enough for optimal density\n",
      "WARNING:root:fine_bins_2D not large enough for optimal density\n",
      "WARNING:root:fine_bins_2D not large enough for optimal density\n",
      "WARNING:root:fine_bins_2D not large enough for optimal density\n",
      "WARNING:root:fine_bins_2D not large enough for optimal density\n",
      "WARNING:root:fine_bins_2D not large enough for optimal density\n",
      "WARNING:root:fine_bins_2D not large enough for optimal density\n",
      "WARNING:root:fine_bins_2D not large enough for optimal density\n"
     ]
    }
   ],
   "source": [
    "g = plots.get_subplot_plotter()\n",
    "g.triangle_plot([samples,samples2], filled=False, title_limit=2,legend_labels=['Reanalysis', '2019'])\n",
    "plt.savefig('plots/corner.png',bbox_inches='tight')"
   ]
  },
  {
   "cell_type": "code",
   "execution_count": null,
   "metadata": {},
   "outputs": [],
   "source": []
  },
  {
   "cell_type": "code",
   "execution_count": null,
   "metadata": {},
   "outputs": [],
   "source": []
  }
 ],
 "metadata": {
  "kernelspec": {
   "display_name": "MyPython",
   "language": "python",
   "name": "py3"
  },
  "language_info": {
   "codemirror_mode": {
    "name": "ipython",
    "version": 3
   },
   "file_extension": ".py",
   "mimetype": "text/x-python",
   "name": "python",
   "nbconvert_exporter": "python",
   "pygments_lexer": "ipython3",
   "version": "3.6.10"
  }
 },
 "nbformat": 4,
 "nbformat_minor": 4
}
