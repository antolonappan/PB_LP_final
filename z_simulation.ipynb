{
 "cells": [
  {
   "cell_type": "code",
   "execution_count": 50,
   "metadata": {},
   "outputs": [],
   "source": [
    "import os\n",
    "import numpy as np\n",
    "import matplotlib.pyplot as plt\n",
    "import h5py\n",
    "import scipy.stats\n",
    "import pickle as pk\n",
    "from tqdm import tqdm"
   ]
  },
  {
   "cell_type": "code",
   "execution_count": 3,
   "metadata": {},
   "outputs": [],
   "source": [
    "hdf5=h5py.File('/project/projectdirs/polar/data/largepatch_reanalysis/largepatch_planck_sim_set/lowell_4_20210328/final_spectra_pack_unblind.hdf5','r' )"
   ]
  },
  {
   "cell_type": "code",
   "execution_count": 5,
   "metadata": {},
   "outputs": [],
   "source": [
    "bins = hdf5['noise_fullcross/polarbearxpolarbear/bins'][1:-2]\n",
    "binsbmid = np.mean(bins, axis=1)\n",
    "dofbin=binsbmid*50*2\n",
    "binsl = hdf5['signal_fullcross/tt/binsl'][:]\n",
    "binslmid = hdf5['signal_fullcross/tt/binslmid'][:]\n",
    "C2Db = binsbmid * (binsbmid + 1) / (2 * np.pi)\n",
    "D2Cb = 1. / C2Db\n",
    "C2Dl = binslmid * (binslmid + 1) / (2 * np.pi)\n",
    "D2Cl = 1. / C2Dl"
   ]
  },
  {
   "cell_type": "code",
   "execution_count": 119,
   "metadata": {},
   "outputs": [],
   "source": [
    "DsBB_cmb = hdf5['signal_fullcross/bb']['theorycb'][1:-2] * 1e-12\n",
    "DlBB_cmb = hdf5['signal_fullcross/bb']['theorycl'][:] * 1e-12\n",
    "DlBB_dust = 9.e-3*(binslmid/80)**(-0.6) * 1e-12\n",
    "DsBB_dust = np.dot(hdf5['signal_fullcross/bb']['bpwf'][1:-2],DlBB_dust)\n",
    "DsBB = DsBB_cmb + DsBB_dust\n",
    "DlBB = DlBB_cmb + DlBB_dust\n",
    "DsBB_sim = hdf5['signal_fullcross/bb']['Cb'][:,1:-2].mean(axis=0)+DsBB_dust"
   ]
  },
  {
   "cell_type": "code",
   "execution_count": 14,
   "metadata": {},
   "outputs": [
    {
     "data": {
      "text/plain": [
       "<matplotlib.legend.Legend at 0x2aaaef2d56a0>"
      ]
     },
     "execution_count": 14,
     "metadata": {},
     "output_type": "execute_result"
    },
    {
     "data": {
      "image/png": "[encoded data removed]",
      "text/plain": [
       "<Figure size 432x288 with 1 Axes>"
      ]
     },
     "metadata": {
      "needs_background": "light"
     },
     "output_type": "display_data"
    }
   ],
   "source": [
    "plt.plot(DsBB,label='theory')\n",
    "plt.plot(DsBB_sim,label='sim')\n",
    "plt.legend()"
   ]
  },
  {
   "cell_type": "code",
   "execution_count": 15,
   "metadata": {},
   "outputs": [],
   "source": [
    "DnP143xP143BB_bias = hdf5['noise_fullcross/planck_143xplanck_143/bb']['Cb'][:,1:-2].mean(axis=0)"
   ]
  },
  {
   "cell_type": "code",
   "execution_count": 16,
   "metadata": {},
   "outputs": [
    {
     "data": {
      "text/plain": [
       "<matplotlib.legend.Legend at 0x2aaaf0027cf8>"
      ]
     },
     "execution_count": 16,
     "metadata": {},
     "output_type": "execute_result"
    },
    {
     "data": {
      "image/png": "[encoded data removed]",
      "text/plain": [
       "<Figure size 432x288 with 1 Axes>"
      ]
     },
     "metadata": {
      "needs_background": "light"
     },
     "output_type": "display_data"
    }
   ],
   "source": [
    "plt.plot(DsBB,label='theory')\n",
    "plt.plot(DsBB_sim+DnP143xP143BB_bias,label='sim')\n",
    "plt.legend()"
   ]
  },
  {
   "cell_type": "code",
   "execution_count": 17,
   "metadata": {},
   "outputs": [
    {
     "data": {
      "text/plain": [
       "'polar/sum_r0p00_spectra_fid_pb_fakeauto/sim000/'"
      ]
     },
     "execution_count": 17,
     "metadata": {},
     "output_type": "execute_result"
    }
   ],
   "source": [
    "\"polar/sum_r0p00_spectra_fid_pb_fakeauto/sim000/\""
   ]
  },
  {
   "cell_type": "code",
   "execution_count": 18,
   "metadata": {},
   "outputs": [],
   "source": [
    "def make_filename(exp1,exp2):\n",
    "    if exp1 == exp2:\n",
    "        return exp1\n",
    "    else:\n",
    "        if exp1 == \"pb\":\n",
    "            return f\"{exp2}_{exp1}\"\n",
    "        else:\n",
    "            return f\"{exp1}_{exp2}\"\n",
    "\n",
    "def make_keyname(exp1,exp2):\n",
    "    exp1 = 'polarbear' if exp1 == 'pb' else exp1\n",
    "    exp2 = 'polarbear' if exp2 == 'pb' else exp2\n",
    "    \n",
    "    if exp1 == 'polarbear':\n",
    "        return f\"{exp2}x{exp1}\"\n",
    "    else:\n",
    "        return f\"{exp1}x{exp2}\""
   ]
  },
  {
   "cell_type": "code",
   "execution_count": 19,
   "metadata": {},
   "outputs": [],
   "source": [
    "spectra_keys = ['tt', 'ee', 'bb', 'te', 'tb', 'eb']\n",
    "freq_name = ['planck_143','pb', 'planck_217','planck_353']"
   ]
  },
  {
   "cell_type": "code",
   "execution_count": 123,
   "metadata": {},
   "outputs": [],
   "source": [
    "def dump_spectra(hdf5,exp1,exp2,sim):\n",
    "    name = make_filename(exp1,exp2)\n",
    "    foldername = os.path.join(\"polar/sum_r0p00_spectra_fid_pb_fakeauto/\",f\"sim{sim:03}\",name)\n",
    "    os.makedirs(foldername,exist_ok=True)\n",
    "    spectra = {}\n",
    "    spectra['bins'] = hdf5['signal_fullcross']['bins'][:].flatten()\n",
    "    for keys in spectra_keys:\n",
    "        dust = 9.e-3*(binslmid/80)**(-0.6)* 1e-12\n",
    "        Ds_dust = np.dot(hdf5['signal_fullcross/bb']['bpwf'][:],dust)\n",
    "        spectra[keys] = {}\n",
    "        signal_key = f\"signal_fullcross/bb\"\n",
    "        noise_key = f\"noise_fullcross/{make_keyname(exp1,exp2)}/{keys}\"\n",
    "        spectra[keys]['Cb'] = hdf5[signal_key]['Cb'][sim,:] + hdf5[noise_key]['Cb'][sim,:] +Ds_dust\n",
    "    filename = os.path.join(foldername,'allspec.pkl')\n",
    "    #print(f\"writing {filename}\")\n",
    "    pk.dump(spectra,open(filename,'wb'))"
   ]
  },
  {
   "cell_type": "code",
   "execution_count": 124,
   "metadata": {},
   "outputs": [],
   "source": [
    "def dump_sim(sim):\n",
    "    for i, exp1 in enumerate(freq_name):\n",
    "        for j, exp2 in enumerate(freq_name):\n",
    "            if i <= j:\n",
    "                dump_spectra(hdf5,exp1,exp2,sim)"
   ]
  },
  {
   "cell_type": "code",
   "execution_count": null,
   "metadata": {},
   "outputs": [],
   "source": []
  },
  {
   "cell_type": "code",
   "execution_count": 130,
   "metadata": {},
   "outputs": [
    {
     "name": "stderr",
     "output_type": "stream",
     "text": [
      "100%|██████████| 96/96 [00:08<00:00, 11.20it/s]\n"
     ]
    }
   ],
   "source": [
    "for i in tqdm(range(96)):\n",
    "    dump_sim(0)"
   ]
  },
  {
   "cell_type": "code",
   "execution_count": 102,
   "metadata": {},
   "outputs": [
    {
     "data": {
      "text/plain": [
       "array([-2.43602375e-14,  1.00070650e-13, -7.58984363e-14, -2.67457032e-13,\n",
       "        4.00639637e-13,  2.61129592e-13, -5.93581288e-13, -3.35139885e-13,\n",
       "        1.93249518e-13, -1.79762104e-12, -3.91254614e-13, -1.39545444e-12,\n",
       "       -1.33960278e-12,  4.87509478e-12])"
      ]
     },
     "execution_count": 102,
     "metadata": {},
     "output_type": "execute_result"
    }
   ],
   "source": [
    "hdf5['noise_fullcross/planck_143xplanck_217/bb']['Cb'][0]"
   ]
  },
  {
   "cell_type": "code",
   "execution_count": 103,
   "metadata": {},
   "outputs": [
    {
     "data": {
      "text/plain": [
       "array([-2.43602375e-14,  1.00070650e-13, -7.58984363e-14, -2.67457032e-13,\n",
       "        4.00639637e-13,  2.61129592e-13, -5.93581288e-13, -3.35139885e-13,\n",
       "        1.93249518e-13, -1.79762104e-12, -3.91254614e-13, -1.39545444e-12,\n",
       "       -1.33960278e-12,  4.87509478e-12])"
      ]
     },
     "execution_count": 103,
     "metadata": {},
     "output_type": "execute_result"
    }
   ],
   "source": [
    "hdf5['noise_fullcross/planck_143xplanck_217/bb']['Cb'][0,:]"
   ]
  },
  {
   "cell_type": "code",
   "execution_count": 104,
   "metadata": {},
   "outputs": [],
   "source": [
    "import matplotlib.pyplot as plt"
   ]
  },
  {
   "cell_type": "code",
   "execution_count": 134,
   "metadata": {},
   "outputs": [],
   "source": [
    "planck_143 = pk.load(open(\"polar/sum_r0p00_spectra_fid_pb_fakeauto/sim003/planck_143/allspec.pkl\", 'rb'))"
   ]
  },
  {
   "cell_type": "code",
   "execution_count": 132,
   "metadata": {},
   "outputs": [],
   "source": [
    "real_planck = pk.load(open(\"polar/real_spectra_abscal_pb_fakeauto/planck_143/allspec.pkl\",'rb'))"
   ]
  },
  {
   "cell_type": "code",
   "execution_count": 135,
   "metadata": {},
   "outputs": [
    {
     "data": {
      "text/plain": [
       "<matplotlib.legend.Legend at 0x2aaaf16de4e0>"
      ]
     },
     "execution_count": 135,
     "metadata": {},
     "output_type": "execute_result"
    },
    {
     "data": {
      "image/png": "[encoded data removed]",
      "text/plain": [
       "<Figure size 432x288 with 1 Axes>"
      ]
     },
     "metadata": {
      "needs_background": "light"
     },
     "output_type": "display_data"
    }
   ],
   "source": [
    "plt.plot(planck_143['bb']['Cb'],label='sim')\n",
    "plt.plot(real_planck['bb']['Cb'],label='real')\n",
    "plt.legend()"
   ]
  },
  {
   "cell_type": "code",
   "execution_count": 122,
   "metadata": {},
   "outputs": [
    {
     "data": {
      "text/plain": [
       "11"
      ]
     },
     "execution_count": 122,
     "metadata": {},
     "output_type": "execute_result"
    }
   ],
   "source": [
    "len(DsBB)"
   ]
  },
  {
   "cell_type": "code",
   "execution_count": null,
   "metadata": {},
   "outputs": [],
   "source": []
  }
 ],
 "metadata": {
  "kernelspec": {
   "display_name": "MyPython",
   "language": "python",
   "name": "py3"
  },
  "language_info": {
   "codemirror_mode": {
    "name": "ipython",
    "version": 3
   },
   "file_extension": ".py",
   "mimetype": "text/x-python",
   "name": "python",
   "nbconvert_exporter": "python",
   "pygments_lexer": "ipython3",
   "version": "3.6.10"
  }
 },
 "nbformat": 4,
 "nbformat_minor": 4
}
